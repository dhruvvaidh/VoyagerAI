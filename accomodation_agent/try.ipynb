{
 "cells": [
  {
   "cell_type": "code",
   "execution_count": 1,
   "id": "40ac3292",
   "metadata": {},
   "outputs": [
    {
     "name": "stdout",
     "output_type": "stream",
     "text": [
      "Current directory: /Users/dhruvvaidh/Documents/GitHub/VoyagerAI/hotel_agent\n",
      "Parent directory: /Users/dhruvvaidh/Documents/GitHub/VoyagerAI\n"
     ]
    }
   ],
   "source": [
    "from pathlib import Path\n",
    "# Get current working directory\n",
    "current_dir = Path.cwd()\n",
    "\n",
    "# Get parent directory\n",
    "parent_dir = current_dir.parent\n",
    "\n",
    "# Display the paths\n",
    "print(f\"Current directory: {current_dir}\")\n",
    "print(f\"Parent directory: {parent_dir}\")"
   ]
  },
  {
   "cell_type": "code",
   "execution_count": null,
   "id": "317c8337",
   "metadata": {},
   "outputs": [
    {
     "data": {
      "text/plain": [
       "PosixPath('/Users/dhruvvaidh/Documents/GitHub/VoyagerAI/local_mcps/hotel_server')"
      ]
     },
     "execution_count": 3,
     "metadata": {},
     "output_type": "execute_result"
    }
   ],
   "source": [
    "parent_dir/\"local_mcps\"/\"hotel_server\""
   ]
  },
  {
   "cell_type": "code",
   "execution_count": 5,
   "id": "45475dfc",
   "metadata": {},
   "outputs": [],
   "source": [
    "import os\n",
    "from google.adk.tools.mcp_tool.mcp_toolset import MCPToolset, StdioServerParameters\n",
    "from pathlib import Path\n",
    "current_dir = Path.cwd()\n",
    "\n",
    "# Get parent directory\n",
    "parent_dir = current_dir.parent\n",
    "\n",
    "\n",
    "hotel_search_toolset = MCPToolset(\n",
    "    connection_params=StdioServerParameters(\n",
    "        command=\"uv\",\n",
    "        args=[\n",
    "            \"--directory\", str(parent_dir/\"local_mcps\"/\"hotel_server\"),\n",
    "            \"run\", \"python\", \"hotel_server.py\",\n",
    "        ],\n",
    "        env={\"SERPAPI_KEY\": os.getenv('SERPAPI_API_KEY')},\n",
    "    )\n",
    ")"
   ]
  },
  {
   "cell_type": "code",
   "execution_count": 6,
   "id": "ee266106",
   "metadata": {},
   "outputs": [
    {
     "name": "stderr",
     "output_type": "stream",
     "text": [
      "Using stdio_client with its own process - may lead to duplicate processes\n"
     ]
    },
    {
     "data": {
      "text/plain": [
       "7"
      ]
     },
     "execution_count": 6,
     "metadata": {},
     "output_type": "execute_result"
    }
   ],
   "source": [
    "len(await hotel_search_toolset.get_tools())"
   ]
  },
  {
   "cell_type": "code",
   "execution_count": 7,
   "id": "13c67d35",
   "metadata": {},
   "outputs": [
    {
     "data": {
      "text/plain": [
       "'972abb64044a6a880a467a5c9d0ef6a2cc5aa9d12cd3472ad5938fb67b3dfbbc'"
      ]
     },
     "execution_count": 7,
     "metadata": {},
     "output_type": "execute_result"
    }
   ],
   "source": [
    "os.getenv('SERPAPI_API_KEY')"
   ]
  },
  {
   "cell_type": "code",
   "execution_count": 1,
   "id": "0ea4a9b6",
   "metadata": {},
   "outputs": [],
   "source": [
    "import os\n",
    "from google.adk.tools.mcp_tool.mcp_toolset import MCPToolset, SseServerParams\n",
    "\n",
    "# 1. Load your Apify token from the environment\n",
    "APIFY_API_TOKEN = os.getenv(\"APIFY_API_TOKEN\")\n",
    "if not APIFY_API_TOKEN:\n",
    "    raise ValueError(\"Please set the APIFY_API_TOKEN environment variable\")\n",
    "\n",
    "# 2. Define the SSE URL and headers\n",
    "APIFY_MCP_URL = \"https://mcp.apify.com/sse?actors=voyager/booking-scraper\"\n",
    "HEADERS = {\n",
    "    \"Authorization\": f\"Bearer {APIFY_API_TOKEN}\"\n",
    "}\n",
    "\n",
    "# 3. Create the MCPToolset pointing at your Apify SSE endpoint\n",
    "hotels_tool = MCPToolset(\n",
    "    connection_params=SseServerParams(\n",
    "        url=APIFY_MCP_URL,\n",
    "        headers=HEADERS,\n",
    "    )\n",
    ")"
   ]
  },
  {
   "cell_type": "code",
   "execution_count": 1,
   "id": "12734293",
   "metadata": {},
   "outputs": [],
   "source": [
    "import os\n",
    "from google.adk.tools.mcp_tool.mcp_toolset import MCPToolset, StdioServerParameters\n",
    "\n",
    "# 1. Load your Airbnb MCP key from the environment\n",
    "AIRBNB_MCP_KEY = os.getenv(\"SMITHERY_API_KEY\")\n",
    "if not AIRBNB_MCP_KEY:\n",
    "    raise ValueError(\"Please set the AIRBNB_MCP_KEY environment variable\")\n",
    "\n",
    "# 2. Build the argument list exactly as in your JSON\n",
    "args = [\n",
    "    \"-y\",\n",
    "    \"@smithery/cli@latest\",\n",
    "    \"run\",\n",
    "    \"@openbnb-org/mcp-server-airbnb\",\n",
    "    \"--key\",\n",
    "    AIRBNB_MCP_KEY,\n",
    "]\n",
    "\n",
    "# 3. Create the MCPToolset pointing at the local npx-spawned server\n",
    "airbnb_tools = MCPToolset(\n",
    "    connection_params=StdioServerParameters(\n",
    "        command=\"npx\",\n",
    "        args=args,\n",
    "    )\n",
    ")"
   ]
  },
  {
   "cell_type": "code",
   "execution_count": 2,
   "id": "4860b6d4",
   "metadata": {},
   "outputs": [
    {
     "name": "stderr",
     "output_type": "stream",
     "text": [
      "Using stdio_client with its own process - may lead to duplicate processes\n"
     ]
    },
    {
     "data": {
      "text/plain": [
       "2"
      ]
     },
     "execution_count": 2,
     "metadata": {},
     "output_type": "execute_result"
    }
   ],
   "source": [
    "len(await airbnb_tools.get_tools())"
   ]
  },
  {
   "cell_type": "code",
   "execution_count": null,
   "id": "eeabbe79",
   "metadata": {},
   "outputs": [],
   "source": []
  }
 ],
 "metadata": {
  "kernelspec": {
   "display_name": "adk",
   "language": "python",
   "name": "python3"
  },
  "language_info": {
   "codemirror_mode": {
    "name": "ipython",
    "version": 3
   },
   "file_extension": ".py",
   "mimetype": "text/x-python",
   "name": "python",
   "nbconvert_exporter": "python",
   "pygments_lexer": "ipython3",
   "version": "3.13.2"
  }
 },
 "nbformat": 4,
 "nbformat_minor": 5
}
