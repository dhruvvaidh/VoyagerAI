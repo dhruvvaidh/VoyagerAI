{
 "cells": [
  {
   "cell_type": "code",
   "execution_count": 7,
   "id": "703fae99",
   "metadata": {},
   "outputs": [
    {
     "name": "stdout",
     "output_type": "stream",
     "text": [
      "<google.adk.tools.mcp_tool.mcp_toolset.MCPToolset object at 0x138a30050>\n"
     ]
    }
   ],
   "source": [
    "from google.adk.tools.mcp_tool.mcp_toolset import MCPToolset,SseServerParams\n",
    "from dotenv import load_dotenv\n",
    "import os\n",
    "\n",
    "load_dotenv()\n",
    "\n",
    "toolset = MCPToolset(\n",
    "    connection_params=SseServerParams(  \n",
    "        url=os.getenv('TRIPADVISOR_MCP'),\n",
    "    )\n",
    ")\n",
    "\n",
    "print(toolset)"
   ]
  },
  {
   "cell_type": "code",
   "execution_count": 5,
   "id": "781ae713",
   "metadata": {},
   "outputs": [
    {
     "name": "stdout",
     "output_type": "stream",
     "text": [
      "https://mcp.pipedream.net/923b8f60-a4b7-45fd-ad16-163d1adfd9f8/tripadvisor_content_api\n"
     ]
    }
   ],
   "source": [
    "print(os.getenv('TRIPADVISOR_MCP'))"
   ]
  },
  {
   "cell_type": "code",
   "execution_count": null,
   "id": "67c6eaab",
   "metadata": {},
   "outputs": [],
   "source": []
  }
 ],
 "metadata": {
  "kernelspec": {
   "display_name": "adk",
   "language": "python",
   "name": "python3"
  },
  "language_info": {
   "codemirror_mode": {
    "name": "ipython",
    "version": 3
   },
   "file_extension": ".py",
   "mimetype": "text/x-python",
   "name": "python",
   "nbconvert_exporter": "python",
   "pygments_lexer": "ipython3",
   "version": "3.13.2"
  }
 },
 "nbformat": 4,
 "nbformat_minor": 5
}
