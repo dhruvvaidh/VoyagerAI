{
 "cells": [
  {
   "cell_type": "code",
   "execution_count": 7,
   "id": "703fae99",
   "metadata": {},
   "outputs": [
    {
     "name": "stdout",
     "output_type": "stream",
     "text": [
      "<google.adk.tools.mcp_tool.mcp_toolset.MCPToolset object at 0x138a30050>\n"
     ]
    }
   ],
   "source": [
    "from google.adk.tools.mcp_tool.mcp_toolset import MCPToolset,SseServerParams\n",
    "from dotenv import load_dotenv\n",
    "import os\n",
    "\n",
    "load_dotenv()\n",
    "\n",
    "toolset = MCPToolset(\n",
    "    connection_params=SseServerParams(  \n",
    "        url=os.getenv('TRIPADVISOR_MCP'),\n",
    "    )\n",
    ")\n",
    "\n",
    "print(toolset)"
   ]
  },
  {
   "cell_type": "code",
   "execution_count": 5,
   "id": "781ae713",
   "metadata": {},
   "outputs": [
    {
     "name": "stdout",
     "output_type": "stream",
     "text": [
      "https://mcp.pipedream.net/923b8f60-a4b7-45fd-ad16-163d1adfd9f8/tripadvisor_content_api\n"
     ]
    }
   ],
   "source": [
    "print(os.getenv('TRIPADVISOR_MCP'))"
   ]
  },
  {
   "cell_type": "code",
   "execution_count": 5,
   "id": "67c6eaab",
   "metadata": {},
   "outputs": [
    {
     "name": "stderr",
     "output_type": "stream",
     "text": [
      "Using stdio_client with its own process - may lead to duplicate processes\n"
     ]
    },
    {
     "name": "stdout",
     "output_type": "stream",
     "text": [
      "7\n"
     ]
    }
   ],
   "source": [
    "import os\n",
    "from google.adk.tools.mcp_tool.mcp_toolset import MCPToolset, StdioServerParameters\n",
    "\n",
    "google_maps_tool = MCPToolset(\n",
    "            connection_params=StdioServerParameters(\n",
    "                command='npx',\n",
    "                args=[\n",
    "                    \"-y\",\n",
    "                    \"@modelcontextprotocol/server-google-maps\",\n",
    "                ],\n",
    "                env={\n",
    "                    \"GOOGLE_MAPS_API_KEY\": os.getenv('GOOGLE_MAPS_API_KEY')\n",
    "                }\n",
    "            )\n",
    ")\n",
    "print(len(await google_maps_tool.get_tools()))"
   ]
  },
  {
   "cell_type": "code",
   "execution_count": 1,
   "id": "2d6976db",
   "metadata": {},
   "outputs": [],
   "source": [
    "import os\n",
    "from google.adk.tools.mcp_tool.mcp_toolset import MCPToolset, StdioServerParameters\n",
    "\n",
    "# Replace the NOTION example with your Jinko MCP server:\n",
    "hotels_tool = MCPToolset(\n",
    "    connection_params=StdioServerParameters(\n",
    "        command=\"npx\",\n",
    "        args=[\n",
    "            \"-y\",\n",
    "            \"@smithery/cli@latest\",\n",
    "            \"run\",\n",
    "            \"@jinkoso/jinko-mcp\",\n",
    "            \"--key\",\n",
    "            os.getenv('SMITHERY_API_KEY'),\n",
    "        ],\n",
    "    )\n",
    ")"
   ]
  },
  {
   "cell_type": "code",
   "execution_count": 2,
   "id": "331861f5",
   "metadata": {},
   "outputs": [
    {
     "name": "stderr",
     "output_type": "stream",
     "text": [
      "Using stdio_client with its own process - may lead to duplicate processes\n"
     ]
    },
    {
     "data": {
      "text/plain": [
       "6"
      ]
     },
     "execution_count": 2,
     "metadata": {},
     "output_type": "execute_result"
    }
   ],
   "source": [
    "len(await hotels_tool.get_tools())"
   ]
  },
  {
   "cell_type": "code",
   "execution_count": null,
   "id": "8edb74c4",
   "metadata": {},
   "outputs": [],
   "source": []
  }
 ],
 "metadata": {
  "kernelspec": {
   "display_name": "adk",
   "language": "python",
   "name": "python3"
  },
  "language_info": {
   "codemirror_mode": {
    "name": "ipython",
    "version": 3
   },
   "file_extension": ".py",
   "mimetype": "text/x-python",
   "name": "python",
   "nbconvert_exporter": "python",
   "pygments_lexer": "ipython3",
   "version": "3.13.2"
  }
 },
 "nbformat": 4,
 "nbformat_minor": 5
}
